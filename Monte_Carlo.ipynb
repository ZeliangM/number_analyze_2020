{
 "cells": [
  {
   "cell_type": "markdown",
   "metadata": {},
   "source": [
    "# Monte_Carlo估计圆周率"
   ]
  },
  {
   "cell_type": "code",
   "execution_count": 2,
   "metadata": {},
   "outputs": [
    {
     "name": "stdout",
     "output_type": "stream",
     "text": [
      "点的个数为:1000000 运周率近似值为：3.14224\n",
      "1.4871042999999986\n"
     ]
    }
   ],
   "source": [
    "from random import random\n",
    "from time import perf_counter\n",
    "start=perf_counter()\n",
    "n=1000*1000\n",
    "counter=0\n",
    "for i in range(1,n+1):\n",
    "    x,y=random(),random()\n",
    "    dist=pow(x**2+y**2,0.5)\n",
    "    if dist<1.0:\n",
    "       counter=counter+1\n",
    "pi=4*(counter/n)\n",
    "print(\"点的个数为:{}\".format(n),\"运周率近似值为：{}\".format(pi))\n",
    "\n",
    "print(perf_counter()-start)"
   ]
  },
  {
   "cell_type": "markdown",
   "metadata": {},
   "source": [
    "# Monte Carlo求定积分"
   ]
  },
  {
   "cell_type": "code",
   "execution_count": 5,
   "metadata": {},
   "outputs": [
    {
     "name": "stdout",
     "output_type": "stream",
     "text": [
      "167.2704\n"
     ]
    }
   ],
   "source": [
    "import random\n",
    "def func(x,y):\n",
    "    return x*x > y  #y=x**2\n",
    "    \n",
    "n = 100*100\n",
    "count = 0\n",
    "for i in range(0, n+1):\n",
    "    x,y=random.uniform(2,8),random.uniform(0,64)\n",
    "\n",
    "    if func(x,y):\n",
    "        count += 1\n",
    "integral_value =6*64*(count/n)\n",
    "print(integral_value)"
   ]
  },
  {
   "cell_type": "markdown",
   "metadata": {},
   "source": [
    "# Monte Carlo变换坐标求解定积分"
   ]
  },
  {
   "cell_type": "code",
   "execution_count": 2,
   "metadata": {},
   "outputs": [
    {
     "name": "stdout",
     "output_type": "stream",
     "text": [
      "14.250560327759143\n"
     ]
    }
   ],
   "source": [
    "from random import random\n",
    "import numpy as np\n",
    "a=2#积分下限\n",
    "b=4#积分上限\n",
    "x=np.linspace(a,b,1000)\n",
    "#y=pow(x,2)#函数\n",
    "y=x**(1.5)\n",
    "L=min(y)\n",
    "M=max(y)\n",
    "\n",
    "\n",
    "def func(x,y):\n",
    "    return pow(a+(b-a)*x,2) >(M-L)* y+L  #y=x**2\n",
    "\n",
    "n = 1000*1000\n",
    "count = 0\n",
    "for i in range(0, n+1):\n",
    "    x,y=random(),random()#撒点\n",
    "    if func(x,y):\n",
    "        count += 1\n",
    "#print(M,L)        \n",
    "print((M-L)*(b-a)*(count/n)+(b-a)*L)        "
   ]
  },
  {
   "cell_type": "markdown",
   "metadata": {},
   "source": [
    "# Monte_Carlo计算单重积分方法（二）"
   ]
  },
  {
   "cell_type": "code",
   "execution_count": 2,
   "metadata": {},
   "outputs": [
    {
     "name": "stdout",
     "output_type": "stream",
     "text": [
      "18.647231699279157\n"
     ]
    }
   ],
   "source": [
    "from random import random\n",
    "a=2\n",
    "b=4\n",
    "n=100*100\n",
    "sum=0\n",
    "\n",
    "lambda x:pow(a+(b-a)*x,2)\n",
    "func=lambda x:pow(a+(b-a)*x,2)\n",
    "for i in range(1,n+1):\n",
    "    x=random()\n",
    "    sum=sum+func(x)\n",
    "\n",
    "f=sum/n\n",
    "print(f*(b-a))"
   ]
  },
  {
   "cell_type": "code",
   "execution_count": 6,
   "metadata": {},
   "outputs": [
    {
     "data": {
      "text/plain": [
       "(18.666666666666668, 2.0724163126336256e-13)"
      ]
     },
     "execution_count": 6,
     "metadata": {},
     "output_type": "execute_result"
    }
   ],
   "source": [
    "from scipy import integrate\n",
    "y= lambda x: x**2\n",
    "integrate.quad(y,2,4)"
   ]
  },
  {
   "cell_type": "code",
   "execution_count": null,
   "metadata": {},
   "outputs": [],
   "source": []
  }
 ],
 "metadata": {
  "kernelspec": {
   "display_name": "Python 3",
   "language": "python",
   "name": "python3"
  },
  "language_info": {
   "codemirror_mode": {
    "name": "ipython",
    "version": 3
   },
   "file_extension": ".py",
   "mimetype": "text/x-python",
   "name": "python",
   "nbconvert_exporter": "python",
   "pygments_lexer": "ipython3",
   "version": "3.7.6"
  }
 },
 "nbformat": 4,
 "nbformat_minor": 4
}
