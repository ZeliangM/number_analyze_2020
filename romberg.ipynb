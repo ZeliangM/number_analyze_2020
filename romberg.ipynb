{
 "cells": [
  {
   "cell_type": "markdown",
   "metadata": {},
   "source": [
    "# 龙贝格求积分"
   ]
  },
  {
   "cell_type": "code",
   "execution_count": 1,
   "metadata": {},
   "outputs": [
    {
     "name": "stdout",
     "output_type": "stream",
     "text": [
      "6\n",
      "[0.4000053287538156]\n"
     ]
    }
   ],
   "source": [
    "import numpy as np\n",
    "k=eval(input())   #k的精度\n",
    "#梯形公式递推，生成一系列T0\n",
    "def T(m): \n",
    "    T0=[]\n",
    "    #m=eval(input())#k的值即k=0,1,2....m\n",
    "    for k in range(m+1):\n",
    "        n=pow(2,k)\n",
    "        a=0     #积分下限\n",
    "        #a=pow(2,-50)\n",
    "        b=1      #积分上限\n",
    "        h=(b-a)/n\n",
    "        x=np.linspace(a,b,n+1)\n",
    "        #f=pow(x,0.5)*np.log(x)\n",
    "        f=pow(x,3/2)\n",
    "        #f=x*np.sin(x)\n",
    "        ak=np.ones(n+1)\n",
    "        ak[0]=1/2\n",
    "        ak[-1]=1/2\n",
    "        T=np.sum(f*ak)\n",
    "        T=T*h\n",
    "        T0.append(T)\n",
    "    return T0\n",
    "T1=T(k)\n",
    "#print(T1)\n",
    "# T1即为k精度下最终结果\n",
    "Ti=[]\n",
    "for i in range(1,k+1):\n",
    "    for j in range(len(T1)-1):\n",
    "        T=((4**i)/((4**i)-1))*T1[j+1]-(1/((4**i)-1))*T1[j]\n",
    "        Ti.append(T)\n",
    "        if i!=1:\n",
    "            Ti.pop(0)\n",
    "    if i!=1:\n",
    "        Ti.pop(0)\n",
    "    T1=Ti\n",
    "print(T1)"
   ]
  }
 ],
 "metadata": {
  "kernelspec": {
   "display_name": "Python 3",
   "language": "python",
   "name": "python3"
  },
  "language_info": {
   "codemirror_mode": {
    "name": "ipython",
    "version": 3
   },
   "file_extension": ".py",
   "mimetype": "text/x-python",
   "name": "python",
   "nbconvert_exporter": "python",
   "pygments_lexer": "ipython3",
   "version": "3.7.6"
  }
 },
 "nbformat": 4,
 "nbformat_minor": 4
}
